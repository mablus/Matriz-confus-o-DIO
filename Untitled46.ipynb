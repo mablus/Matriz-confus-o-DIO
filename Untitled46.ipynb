{
  "nbformat": 4,
  "nbformat_minor": 0,
  "metadata": {
    "colab": {
      "private_outputs": true,
      "provenance": [],
      "authorship_tag": "ABX9TyMagJ6NfoC1zhvvIdJtefLk",
      "include_colab_link": true
    },
    "kernelspec": {
      "name": "python3",
      "display_name": "Python 3"
    },
    "language_info": {
      "name": "python"
    }
  },
  "cells": [
    {
      "cell_type": "markdown",
      "metadata": {
        "id": "view-in-github",
        "colab_type": "text"
      },
      "source": [
        "<a href=\"https://colab.research.google.com/github/mablus/Matriz-confus-o-DIO/blob/main/Untitled46.ipynb\" target=\"_parent\"><img src=\"https://colab.research.google.com/assets/colab-badge.svg\" alt=\"Open In Colab\"/></a>"
      ]
    },
    {
      "cell_type": "code",
      "execution_count": null,
      "metadata": {
        "id": "k-drEDu4fbTA"
      },
      "outputs": [],
      "source": [
        "import numpy as np\n",
        "import pandas as pd\n",
        "import matplotlib.pyplot as plt\n",
        "from sklearn.model_selection import train_test_split\n",
        "from sklearn.compose import ColumnTransformer\n",
        "from sklearn.pipeline import Pipeline\n",
        "from sklearn.preprocessing import RobustScaler, OneHotEncoder\n",
        "from sklearn.linear_model import LogisticRegression\n",
        "from sklearn.metrics import accuracy_score, precision_score, recall_score, f1_score"
      ]
    },
    {
      "cell_type": "code",
      "source": [
        "data = pd.read_csv('Churn_Modelling.csv', index_col=0)\n",
        "data.head()"
      ],
      "metadata": {
        "id": "yEoN_SzhfzdC"
      },
      "execution_count": null,
      "outputs": []
    },
    {
      "cell_type": "code",
      "source": [
        "data.drop(['CustomerId', 'Surname'], axis=1, inplace=True)"
      ],
      "metadata": {
        "id": "2pWjR4LtgXFb"
      },
      "execution_count": null,
      "outputs": []
    },
    {
      "cell_type": "code",
      "source": [
        "data.shape"
      ],
      "metadata": {
        "id": "g-pYmvXQggof"
      },
      "execution_count": null,
      "outputs": []
    },
    {
      "cell_type": "code",
      "source": [
        "data.isna().sum()"
      ],
      "metadata": {
        "id": "B0uL1i5Ygi0x"
      },
      "execution_count": null,
      "outputs": []
    },
    {
      "cell_type": "code",
      "source": [
        "X = data.drop('Exited', 1)\n",
        "y = data.Exited"
      ],
      "metadata": {
        "id": "xXlmBNsLgn0K"
      },
      "execution_count": null,
      "outputs": []
    },
    {
      "cell_type": "code",
      "source": [
        "X_train, X_test, y_train, y_test = train_test_split(X, y, test_size=0.2, random_state=0, stratify=y)"
      ],
      "metadata": {
        "id": "SaSC2kkrgstX"
      },
      "execution_count": null,
      "outputs": []
    },
    {
      "cell_type": "code",
      "source": [
        "X.columns"
      ],
      "metadata": {
        "id": "AXLCuE6ggvTl"
      },
      "execution_count": null,
      "outputs": []
    },
    {
      "cell_type": "code",
      "source": [
        "num_cols = ['CreditScore', 'Age', 'Tenure', 'Balance', 'NumOfProducts', 'EstimatedSalary']\n",
        "cat_cols = ['HasCrCard', 'IsActiveMember', 'Geography', 'Gender']"
      ],
      "metadata": {
        "id": "bUCIV93ygxgh"
      },
      "execution_count": null,
      "outputs": []
    },
    {
      "cell_type": "code",
      "source": [
        "ct = ColumnTransformer([\n",
        "    ('s1', RobustScaler(), num_cols),\n",
        "    ('s2', OneHotEncoder(sparse=False, handle_unknown='ignore'), cat_cols)\n",
        "])"
      ],
      "metadata": {
        "id": "UA65rPSIhBil"
      },
      "execution_count": null,
      "outputs": []
    },
    {
      "cell_type": "code",
      "source": [
        "p = Pipeline([\n",
        "    ('ct', ct),\n",
        "    ('mod', LogisticRegression(random_state=0))\n",
        "])"
      ],
      "metadata": {
        "id": "JQnkie5hhDfz"
      },
      "execution_count": null,
      "outputs": []
    },
    {
      "cell_type": "code",
      "source": [
        "p.fit(X_train, y_train)"
      ],
      "metadata": {
        "id": "hXag5i9XhFd-"
      },
      "execution_count": null,
      "outputs": []
    },
    {
      "cell_type": "code",
      "source": [
        "preds = p.predict(X_test)\n",
        "preds[:15]"
      ],
      "metadata": {
        "id": "j_BHZ846hIv9"
      },
      "execution_count": null,
      "outputs": []
    },
    {
      "cell_type": "code",
      "source": [
        "  np.array(y_test)[:15]"
      ],
      "metadata": {
        "id": "lHBt0ty9hQNF"
      },
      "execution_count": null,
      "outputs": []
    },
    {
      "cell_type": "code",
      "source": [
        "from sklearn.metrics import confusion_matrix, plot_confusion_matrix"
      ],
      "metadata": {
        "id": "sFA-xMjbhVHk"
      },
      "execution_count": null,
      "outputs": []
    },
    {
      "cell_type": "code",
      "source": [
        "confusion_matrix(y_true=y_test, y_pred=preds)"
      ],
      "metadata": {
        "id": "4TiWF-z0hZ7P"
      },
      "execution_count": null,
      "outputs": []
    },
    {
      "cell_type": "code",
      "source": [
        "p.classes_"
      ],
      "metadata": {
        "id": "fmKkdQ_EhdVH"
      },
      "execution_count": null,
      "outputs": []
    },
    {
      "cell_type": "code",
      "source": [
        "confusion_matrix(y_test, preds, labels=(1,0))"
      ],
      "metadata": {
        "id": "4nrPHOt2hhmS"
      },
      "execution_count": null,
      "outputs": []
    },
    {
      "cell_type": "code",
      "source": [
        "tp, fn, fp, tn = confusion_matrix(y_test, preds, labels=(1,0)).ravel()"
      ],
      "metadata": {
        "id": "DDfSvkU8hi1N"
      },
      "execution_count": null,
      "outputs": []
    },
    {
      "cell_type": "code",
      "source": [
        "precision = tp/(tp+fp)\n",
        "precision"
      ],
      "metadata": {
        "id": "XGhyUm3Nhldu"
      },
      "execution_count": null,
      "outputs": []
    },
    {
      "cell_type": "code",
      "source": [
        "precision_score(y_test, preds)"
      ],
      "metadata": {
        "id": "lf_EoeYGmIv5"
      },
      "execution_count": null,
      "outputs": []
    },
    {
      "cell_type": "code",
      "source": [
        "sensitiviness = tp/(tp+fn)\n",
        "sensitiviness"
      ],
      "metadata": {
        "id": "qxYv53zNleWc"
      },
      "execution_count": null,
      "outputs": []
    },
    {
      "cell_type": "code",
      "source": [
        "#sensitiviness\n",
        "recall_score(y_test, preds)"
      ],
      "metadata": {
        "id": "GQCvaG9iiwMz"
      },
      "execution_count": null,
      "outputs": []
    },
    {
      "cell_type": "code",
      "source": [
        "f1_score= 2*(precision*sensitiviness)/(precision+sensitiviness)\n",
        "f1_score"
      ],
      "metadata": {
        "id": "y7eyXqmOmRsI"
      },
      "execution_count": null,
      "outputs": []
    },
    {
      "cell_type": "code",
      "source": [
        "specificity = tn/(tp+fn)\n",
        "specificity"
      ],
      "metadata": {
        "id": "pGChsx08nglD"
      },
      "execution_count": null,
      "outputs": []
    },
    {
      "cell_type": "code",
      "source": [
        "Accuracy = (tp+tn)/(tp+fp+fn+tn)\n",
        "Accuracy"
      ],
      "metadata": {
        "id": "RXE77O4PqIcC"
      },
      "execution_count": null,
      "outputs": []
    }
  ]
}